{
 "cells": [
  {
   "cell_type": "code",
   "execution_count": 44,
   "metadata": {},
   "outputs": [],
   "source": [
    "import os\n",
    "from PIL import Image, ExifTags\n",
    "from skimage.io import imread_collection"
   ]
  },
  {
   "cell_type": "code",
   "execution_count": 2,
   "metadata": {},
   "outputs": [
    {
     "name": "stdout",
     "output_type": "stream",
     "text": [
      "{11: 'ProcessingSoftware', 254: 'NewSubfileType', 255: 'SubfileType', 256: 'ImageWidth', 257: 'ImageLength', 258: 'BitsPerSample', 259: 'Compression', 262: 'PhotometricInterpretation', 263: 'Thresholding', 264: 'CellWidth', 265: 'CellLength', 266: 'FillOrder', 269: 'DocumentName', 270: 'ImageDescription', 271: 'Make', 272: 'Model', 273: 'StripOffsets', 274: 'Orientation', 277: 'SamplesPerPixel', 278: 'RowsPerStrip', 279: 'StripByteCounts', 280: 'MinSampleValue', 281: 'MaxSampleValue', 282: 'XResolution', 283: 'YResolution', 284: 'PlanarConfiguration', 285: 'PageName', 288: 'FreeOffsets', 289: 'FreeByteCounts', 290: 'GrayResponseUnit', 291: 'GrayResponseCurve', 292: 'T4Options', 293: 'T6Options', 296: 'ResolutionUnit', 297: 'PageNumber', 301: 'TransferFunction', 305: 'Software', 306: 'DateTime', 315: 'Artist', 316: 'HostComputer', 317: 'Predictor', 318: 'WhitePoint', 319: 'PrimaryChromaticities', 320: 'ColorMap', 321: 'HalftoneHints', 322: 'TileWidth', 323: 'TileLength', 324: 'TileOffsets', 325: 'TileByteCounts', 330: 'SubIFDs', 332: 'InkSet', 333: 'InkNames', 334: 'NumberOfInks', 336: 'DotRange', 337: 'TargetPrinter', 338: 'ExtraSamples', 339: 'SampleFormat', 340: 'SMinSampleValue', 341: 'SMaxSampleValue', 342: 'TransferRange', 343: 'ClipPath', 344: 'XClipPathUnits', 345: 'YClipPathUnits', 346: 'Indexed', 347: 'JPEGTables', 351: 'OPIProxy', 512: 'JPEGProc', 513: 'JpegIFOffset', 514: 'JpegIFByteCount', 515: 'JpegRestartInterval', 517: 'JpegLosslessPredictors', 518: 'JpegPointTransforms', 519: 'JpegQTables', 520: 'JpegDCTables', 521: 'JpegACTables', 529: 'YCbCrCoefficients', 530: 'YCbCrSubSampling', 531: 'YCbCrPositioning', 532: 'ReferenceBlackWhite', 700: 'XMLPacket', 4096: 'RelatedImageFileFormat', 4097: 'RelatedImageWidth', 4098: 'RelatedImageLength', 18246: 'Rating', 18249: 'RatingPercent', 32781: 'ImageID', 33421: 'CFARepeatPatternDim', 33422: 'CFAPattern', 33423: 'BatteryLevel', 33432: 'Copyright', 33434: 'ExposureTime', 33437: 'FNumber', 33723: 'IPTCNAA', 34377: 'ImageResources', 34665: 'ExifOffset', 34675: 'InterColorProfile', 34850: 'ExposureProgram', 34852: 'SpectralSensitivity', 34853: 'GPSInfo', 34855: 'ISOSpeedRatings', 34856: 'OECF', 34857: 'Interlace', 34858: 'TimeZoneOffset', 34859: 'SelfTimerMode', 36864: 'ExifVersion', 36867: 'DateTimeOriginal', 36868: 'DateTimeDigitized', 37121: 'ComponentsConfiguration', 37122: 'CompressedBitsPerPixel', 37377: 'ShutterSpeedValue', 37378: 'ApertureValue', 37379: 'BrightnessValue', 37380: 'ExposureBiasValue', 37381: 'MaxApertureValue', 37382: 'SubjectDistance', 37383: 'MeteringMode', 37384: 'LightSource', 37385: 'Flash', 37386: 'FocalLength', 37387: 'FlashEnergy', 37388: 'SpatialFrequencyResponse', 37389: 'Noise', 37393: 'ImageNumber', 37394: 'SecurityClassification', 37395: 'ImageHistory', 37396: 'SubjectLocation', 37397: 'ExposureIndex', 37398: 'TIFF/EPStandardID', 37500: 'MakerNote', 37510: 'UserComment', 37520: 'SubsecTime', 37521: 'SubsecTimeOriginal', 37522: 'SubsecTimeDigitized', 40091: 'XPTitle', 40092: 'XPComment', 40093: 'XPAuthor', 40094: 'XPKeywords', 40095: 'XPSubject', 40960: 'FlashPixVersion', 40961: 'ColorSpace', 40962: 'ExifImageWidth', 40963: 'ExifImageHeight', 40964: 'RelatedSoundFile', 40965: 'ExifInteroperabilityOffset', 41483: 'FlashEnergy', 41484: 'SpatialFrequencyResponse', 41486: 'FocalPlaneXResolution', 41487: 'FocalPlaneYResolution', 41488: 'FocalPlaneResolutionUnit', 41492: 'SubjectLocation', 41493: 'ExposureIndex', 41495: 'SensingMethod', 41728: 'FileSource', 41729: 'SceneType', 41730: 'CFAPattern', 41985: 'CustomRendered', 41986: 'ExposureMode', 41987: 'WhiteBalance', 41988: 'DigitalZoomRatio', 41989: 'FocalLengthIn35mmFilm', 41990: 'SceneCaptureType', 41991: 'GainControl', 41992: 'Contrast', 41993: 'Saturation', 41994: 'Sharpness', 41995: 'DeviceSettingDescription', 41996: 'SubjectDistanceRange', 42016: 'ImageUniqueID', 42032: 'CameraOwnerName', 42033: 'BodySerialNumber', 42034: 'LensSpecification', 42035: 'LensMake', 42036: 'LensModel', 42037: 'LensSerialNumber', 42240: 'Gamma', 50341: 'PrintImageMatching', 50706: 'DNGVersion', 50707: 'DNGBackwardVersion', 50708: 'UniqueCameraModel', 50709: 'LocalizedCameraModel', 50710: 'CFAPlaneColor', 50711: 'CFALayout', 50712: 'LinearizationTable', 50713: 'BlackLevelRepeatDim', 50714: 'BlackLevel', 50715: 'BlackLevelDeltaH', 50716: 'BlackLevelDeltaV', 50717: 'WhiteLevel', 50718: 'DefaultScale', 50719: 'DefaultCropOrigin', 50720: 'DefaultCropSize', 50721: 'ColorMatrix1', 50722: 'ColorMatrix2', 50723: 'CameraCalibration1', 50724: 'CameraCalibration2', 50725: 'ReductionMatrix1', 50726: 'ReductionMatrix2', 50727: 'AnalogBalance', 50728: 'AsShotNeutral', 50729: 'AsShotWhiteXY', 50730: 'BaselineExposure', 50731: 'BaselineNoise', 50732: 'BaselineSharpness', 50733: 'BayerGreenSplit', 50734: 'LinearResponseLimit', 50735: 'CameraSerialNumber', 50736: 'LensInfo', 50737: 'ChromaBlurRadius', 50738: 'AntiAliasStrength', 50739: 'ShadowScale', 50740: 'DNGPrivateData', 50741: 'MakerNoteSafety', 50778: 'CalibrationIlluminant1', 50779: 'CalibrationIlluminant2', 50780: 'BestQualityScale', 50781: 'RawDataUniqueID', 50827: 'OriginalRawFileName', 50828: 'OriginalRawFileData', 50829: 'ActiveArea', 50830: 'MaskedAreas', 50831: 'AsShotICCProfile', 50832: 'AsShotPreProfileMatrix', 50833: 'CurrentICCProfile', 50834: 'CurrentPreProfileMatrix', 50879: 'ColorimetricReference', 50931: 'CameraCalibrationSignature', 50932: 'ProfileCalibrationSignature', 50934: 'AsShotProfileName', 50935: 'NoiseReductionApplied', 50936: 'ProfileName', 50937: 'ProfileHueSatMapDims', 50938: 'ProfileHueSatMapData1', 50939: 'ProfileHueSatMapData2', 50940: 'ProfileToneCurve', 50941: 'ProfileEmbedPolicy', 50942: 'ProfileCopyright', 50964: 'ForwardMatrix1', 50965: 'ForwardMatrix2', 50966: 'PreviewApplicationName', 50967: 'PreviewApplicationVersion', 50968: 'PreviewSettingsName', 50969: 'PreviewSettingsDigest', 50970: 'PreviewColorSpace', 50971: 'PreviewDateTime', 50972: 'RawImageDigest', 50973: 'OriginalRawFileDigest', 50974: 'SubTileBlockSize', 50975: 'RowInterleaveFactor', 50981: 'ProfileLookTableDims', 50982: 'ProfileLookTableData', 51008: 'OpcodeList1', 51009: 'OpcodeList2', 51022: 'OpcodeList3', 51041: 'NoiseProfile'}\n"
     ]
    }
   ],
   "source": [
    "print(TAGS)"
   ]
  },
  {
   "cell_type": "code",
   "execution_count": 39,
   "metadata": {},
   "outputs": [],
   "source": [
    "img_file = '1muc9m_fake.jpg'"
   ]
  },
  {
   "cell_type": "code",
   "execution_count": 40,
   "metadata": {},
   "outputs": [],
   "source": [
    "image = Image.open(img_file)"
   ]
  },
  {
   "cell_type": "code",
   "execution_count": 42,
   "metadata": {},
   "outputs": [
    {
     "name": "stdout",
     "output_type": "stream",
     "text": [
      "Sorry, image has no exif data.\n"
     ]
    }
   ],
   "source": [
    "img_exif = image.getexif()\n",
    "if img_exif:\n",
    "    print(type(img_exif))\n",
    "    # <class 'PIL.Image.Exif'>\n",
    "    print(dict(img_exif))\n",
    "    # { .. 271: 'FUJIFILM', 305: 'Adobe Photoshop Lightroom 6.14 (Macintosh)', }\n",
    "\n",
    "    img_exif_dict = dict(img_exif)\n",
    "    for key, val in img_exif_dict.items():\n",
    "        if key in ExifTags.TAGS:\n",
    "            print(ExifTags.TAGS[key] + \" - \" + str(val))\n",
    "else:\n",
    "    print(\"Sorry, image has no exif data.\")"
   ]
  },
  {
   "cell_type": "code",
   "execution_count": 51,
   "metadata": {},
   "outputs": [],
   "source": [
    "#your path \n",
    "col_dir = '*.jpg'\n",
    "\n",
    "#creating a collection with the available images\n",
    "col = imread_collection(col_dir)"
   ]
  },
  {
   "cell_type": "code",
   "execution_count": 57,
   "metadata": {},
   "outputs": [
    {
     "data": {
      "text/plain": [
       "['1a0qp3_fake.jpg',\n",
       " '1cbtfp_fake.jpg',\n",
       " '1ms5jm_true.jpg',\n",
       " '1msak6_fake.jpg',\n",
       " '1msak6_true.jpg',\n",
       " '1mtokv_fake.jpg',\n",
       " '1mtokv_true.jpg',\n",
       " '1mu1zz_fake.jpg',\n",
       " '1mu1zz_true.jpg',\n",
       " '1muc9m_fake.jpg',\n",
       " '1muc9m_true.jpg',\n",
       " '1muenb_fake.jpg',\n",
       " '1muenb_true.jpg',\n",
       " '1musb9_fake.jpg',\n",
       " '1musb9_true.jpg',\n",
       " '1mv4ql_fake.jpg',\n",
       " '1mv4ql_true.jpg',\n",
       " '1mvvlt_fake.jpg',\n",
       " '1mvvlt_true.jpg',\n",
       " '1mw5pj_fake.jpg',\n",
       " '1mw5pj_true.jpg',\n",
       " '20190916b_davison_aerial057_8.jpg']"
      ]
     },
     "execution_count": 57,
     "metadata": {},
     "output_type": "execute_result"
    }
   ],
   "source": [
    "col.files"
   ]
  },
  {
   "cell_type": "code",
   "execution_count": 60,
   "metadata": {},
   "outputs": [
    {
     "name": "stdout",
     "output_type": "stream",
     "text": [
      "Sorry, image has no exif data.\n",
      "Sorry, image has no exif data.\n",
      "Sorry, image has no exif data.\n",
      "Sorry, image has no exif data.\n",
      "Sorry, image has no exif data.\n",
      "Sorry, image has no exif data.\n",
      "Sorry, image has no exif data.\n",
      "Sorry, image has no exif data.\n",
      "Sorry, image has no exif data.\n",
      "Sorry, image has no exif data.\n",
      "Sorry, image has no exif data.\n",
      "Sorry, image has no exif data.\n",
      "Sorry, image has no exif data.\n",
      "Sorry, image has no exif data.\n",
      "Sorry, image has no exif data.\n",
      "Sorry, image has no exif data.\n",
      "Sorry, image has no exif data.\n",
      "Sorry, image has no exif data.\n",
      "Sorry, image has no exif data.\n",
      "Sorry, image has no exif data.\n",
      "Sorry, image has no exif data.\n",
      "<class 'PIL.Image.Exif'>\n",
      "{36864: b'0231', 37377: (6321928, 1000000), 37378: (2275007, 1000000), 36867: '2019:09:16 19:08:58', 36868: '2019:09:16 19:08:58', 37380: (0, 1), 37381: (8074, 3549), 37382: (0, 1), 37383: 2, 37384: 10, 37385: 32, 37386: (47, 10), 40961: 1, 41988: (0, 1), 41989: 26, 271: 'DJI', 272: 'FC220', 36880: '-04:00', 41993: 0, 41994: 0, 41996: 0, 41728: b'\\x03', 282: (300, 1), 283: (300, 1), 33434: (1, 80), 33437: (22, 10), 41729: b'\\x01', 34850: 1, 34853: {0: b'\\x02\\x02\\x00\\x00', 1: 'N', 2: ((36, 1), (1705200, 10000000), (0, 1)), 3: 'W', 4: ((78, 1), (562321500, 10000000), (0, 1)), 5: b'\\x00', 6: (629, 5)}, 41985: 0, 34855: 100, 296: 2, 41986: 1, 41987: 1, 305: 'Adobe Photoshop Camera Raw 11.3.1 (Macintosh)', 306: '2019:09:17 12:22:53', 42033: '2016041101', 42034: ((263, 10), (263, 10), (11, 5), (11, 5)), 42036: '26.3 mm f/2.2', 41990: 0, 41991: 0, 41992: 0, 34665: 210}\n",
      "ExifVersion - b'0231'\n",
      "ShutterSpeedValue - (6321928, 1000000)\n",
      "ApertureValue - (2275007, 1000000)\n",
      "DateTimeOriginal - 2019:09:16 19:08:58\n",
      "DateTimeDigitized - 2019:09:16 19:08:58\n",
      "ExposureBiasValue - (0, 1)\n",
      "MaxApertureValue - (8074, 3549)\n",
      "SubjectDistance - (0, 1)\n",
      "MeteringMode - 2\n",
      "LightSource - 10\n",
      "Flash - 32\n",
      "FocalLength - (47, 10)\n",
      "ColorSpace - 1\n",
      "DigitalZoomRatio - (0, 1)\n",
      "FocalLengthIn35mmFilm - 26\n",
      "Make - DJI\n",
      "Model - FC220\n",
      "Saturation - 0\n",
      "Sharpness - 0\n",
      "SubjectDistanceRange - 0\n",
      "FileSource - b'\\x03'\n",
      "XResolution - (300, 1)\n",
      "YResolution - (300, 1)\n",
      "ExposureTime - (1, 80)\n",
      "FNumber - (22, 10)\n",
      "SceneType - b'\\x01'\n",
      "ExposureProgram - 1\n",
      "GPSInfo - {0: b'\\x02\\x02\\x00\\x00', 1: 'N', 2: ((36, 1), (1705200, 10000000), (0, 1)), 3: 'W', 4: ((78, 1), (562321500, 10000000), (0, 1)), 5: b'\\x00', 6: (629, 5)}\n",
      "CustomRendered - 0\n",
      "ISOSpeedRatings - 100\n",
      "ResolutionUnit - 2\n",
      "ExposureMode - 1\n",
      "WhiteBalance - 1\n",
      "Software - Adobe Photoshop Camera Raw 11.3.1 (Macintosh)\n",
      "DateTime - 2019:09:17 12:22:53\n",
      "BodySerialNumber - 2016041101\n",
      "LensSpecification - ((263, 10), (263, 10), (11, 5), (11, 5))\n",
      "LensModel - 26.3 mm f/2.2\n",
      "SceneCaptureType - 0\n",
      "GainControl - 0\n",
      "Contrast - 0\n",
      "ExifOffset - 210\n"
     ]
    }
   ],
   "source": [
    "for i in col.files:\n",
    "    img_file = i\n",
    "    image = Image.open(img_file)\n",
    "    img_exif = image.getexif()\n",
    "    if img_exif:\n",
    "        print(type(img_exif))\n",
    "        # <class 'PIL.Image.Exif'>\n",
    "        print(dict(img_exif))\n",
    "        # { .. 271: 'FUJIFILM', 305: 'Adobe Photoshop Lightroom 6.14 (Macintosh)', }\n",
    "\n",
    "        img_exif_dict = dict(img_exif)\n",
    "        for key, val in img_exif_dict.items():\n",
    "            if key in ExifTags.TAGS:\n",
    "                print(ExifTags.TAGS[key] + \" - \" + str(val))\n",
    "    else:\n",
    "        print(\"Sorry, image has no exif data.\")"
   ]
  },
  {
   "cell_type": "code",
   "execution_count": null,
   "metadata": {},
   "outputs": [],
   "source": []
  }
 ],
 "metadata": {
  "kernelspec": {
   "display_name": "Python 3",
   "language": "python",
   "name": "python3"
  },
  "language_info": {
   "codemirror_mode": {
    "name": "ipython",
    "version": 3
   },
   "file_extension": ".py",
   "mimetype": "text/x-python",
   "name": "python",
   "nbconvert_exporter": "python",
   "pygments_lexer": "ipython3",
   "version": "3.7.3"
  }
 },
 "nbformat": 4,
 "nbformat_minor": 2
}
